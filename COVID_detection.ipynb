{
  "nbformat": 4,
  "nbformat_minor": 0,
  "metadata": {
    "accelerator": "GPU",
    "colab": {
      "name": "COVID-detection.ipynb",
      "provenance": [],
      "include_colab_link": true
    },
    "kernelspec": {
      "display_name": "Python 3",
      "name": "python3"
    },
    "language_info": {
      "name": "python"
    }
  },
  "cells": [
    {
      "cell_type": "markdown",
      "metadata": {
        "id": "view-in-github",
        "colab_type": "text"
      },
      "source": [
        "<a href=\"https://colab.research.google.com/github/ajain3765/COVID-detection/blob/main/COVID_detection.ipynb\" target=\"_parent\"><img src=\"https://colab.research.google.com/assets/colab-badge.svg\" alt=\"Open In Colab\"/></a>"
      ]
    },
    {
      "cell_type": "code",
      "metadata": {
        "colab": {
          "base_uri": "https://localhost:8080/"
        },
        "id": "CVshFPEHtepN",
        "outputId": "cae87a0c-ca6c-4c67-9b66-a1950732835a"
      },
      "source": [
        "from google.colab import drive\n",
        "drive.mount('/content/drive', force_remount=True)"
      ],
      "execution_count": null,
      "outputs": [
        {
          "output_type": "stream",
          "text": [
            "Mounted at /content/drive\n"
          ],
          "name": "stdout"
        }
      ]
    },
    {
      "cell_type": "code",
      "metadata": {
        "colab": {
          "base_uri": "https://localhost:8080/"
        },
        "id": "dr_NWsUDy4dT",
        "outputId": "91ac6ba5-ddac-4974-b1e3-fbb7972b1ec2"
      },
      "source": [
        "import os\n",
        "os.chdir('/content/drive/MyDrive/COVID_19_CT_Data')\n",
        "print(os.getcwd())"
      ],
      "execution_count": null,
      "outputs": [
        {
          "output_type": "stream",
          "text": [
            "/content/drive/MyDrive/COVID_19_CT_Data\n"
          ],
          "name": "stdout"
        }
      ]
    },
    {
      "cell_type": "code",
      "metadata": {
        "colab": {
          "base_uri": "https://localhost:8080/"
        },
        "id": "bQZ81GCizCbH",
        "outputId": "ad1c0062-f40d-4d77-f12d-a6d1889ecc2b"
      },
      "source": [
        "%tensorflow_version 2.x\n",
        "import tensorflow as tf\n",
        "device_name = tf.test.gpu_device_name()\n",
        "if device_name != '/device:GPU:0':\n",
        "  raise SystemError('GPU device not found')\n",
        "print('Found GPU at: {}'.format(device_name))"
      ],
      "execution_count": null,
      "outputs": [
        {
          "output_type": "stream",
          "text": [
            "Found GPU at: /device:GPU:0\n"
          ],
          "name": "stdout"
        }
      ]
    },
    {
      "cell_type": "code",
      "metadata": {
        "id": "PaE3aRb30-Ea"
      },
      "source": [
        ""
      ],
      "execution_count": null,
      "outputs": []
    },
    {
      "cell_type": "code",
      "metadata": {
        "id": "VB3ZQrni1bpE"
      },
      "source": [
        "import numpy as np\n",
        "import matplotlib.pyplot as plt\n",
        "import os\n",
        "import random\n",
        "import cv2\n",
        "import pickle\n",
        "\n",
        "\n",
        "datapath='/content/drive/MyDrive/COVID_19_CT_Data/COVID_19_CT_Data/Train'\n",
        "categories=['COVID','non-COVID']\n",
        "\n",
        "training_data=[]\n",
        "\n",
        "def create_training_data():\n",
        "    with tf.device('/device:GPU:0'):\n",
        "        for cat in categories:\n",
        "            path=os.path.join(datapath,cat)\n",
        "            class_num=categories.index(cat)\n",
        "            for img in os.listdir(path):\n",
        "                try:\n",
        "                    img_array=cv2.imread(os.path.join(path,img),cv2.IMREAD_GRAYSCALE)\n",
        "                    new=cv2.resize(img_array,(100,100))\n",
        "                    training_data.append([new,class_num])\n",
        "                except Exception as e:\n",
        "                    pass\n",
        "\n",
        "create_training_data()\n",
        "\n",
        "random.shuffle(training_data)\n",
        "\n",
        "X=[]\n",
        "y=[]\n",
        "\n",
        "\n",
        "for features,label in training_data:\n",
        "    X.append(features)\n",
        "    y.append(label)\n",
        "\n",
        "\n",
        "X=np.array(X).reshape(-1,100,100,1)\n",
        "\n",
        "#plt.imshow(X[0].reshape(100,100),cmap=\"gray\")\n",
        "#plt.show()\n",
        "#print(X[1])\n",
        "#print(X.shape[:])\n",
        "\n",
        "pickle_out=open(\"Xtrain.pickle\",\"wb\") \n",
        "pickle.dump(X,pickle_out)\n",
        "pickle_out.close()\n",
        "\n",
        "pickle_out=open(\"ytrain.pickle\",\"wb\")\n",
        "pickle.dump(y,pickle_out)\n",
        "pickle_out.close()\n"
      ],
      "execution_count": null,
      "outputs": []
    },
    {
      "cell_type": "code",
      "metadata": {
        "colab": {
          "base_uri": "https://localhost:8080/"
        },
        "id": "-urNDJwy9ib7",
        "outputId": "74911b53-0916-4e67-a39d-6a84ad1b95de"
      },
      "source": [
        "import tensorflow as tf\n",
        "import keras\n",
        "from tensorflow.keras.models import Sequential\n",
        "from tensorflow.keras.layers import Dense,Activation,Flatten, Conv2D, MaxPooling2D, Dropout\n",
        "import pickle\n",
        "from keras.utils.np_utils import to_categorical\n",
        "\n",
        "X=pickle.load(open(\"Xtrain.pickle\",\"rb\"))\n",
        "y=pickle.load(open(\"ytrain.pickle\",\"rb\"))\n",
        "\n",
        "X=X/255.0\n",
        "\n",
        "\n",
        "\n",
        "data_augmentation = keras.Sequential(\n",
        "  [\n",
        "    tf.keras.layers.experimental.preprocessing.RandomFlip(\"horizontal\", \n",
        "                                                 input_shape=X.shape[1:]),\n",
        "    tf.keras.layers.experimental.preprocessing.RandomRotation(0.1),\n",
        "    tf.keras.layers.experimental.preprocessing.RandomZoom(0.1),\n",
        "  ]\n",
        ")\n",
        "\n",
        "\n",
        "y=to_categorical(y)\n",
        "model = tf.keras.models.Sequential([ \n",
        "                                     tf.keras.layers.Conv2D(32, (3,3), activation = 'relu'),\n",
        "                                     tf.keras.layers.Dropout(0.5),\n",
        "                                     tf.keras.layers.MaxPool2D((2,2)),\n",
        "                                     tf.keras.layers.Conv2D(32, (3,3), activation = 'relu'),\n",
        "                                     tf.keras.layers.Dropout(0.5),\n",
        "                                     tf.keras.layers.MaxPool2D((2,2)),\n",
        "                                     tf.keras.layers.Flatten(),\n",
        "                                     tf.keras.layers.Dense(128, activation = 'relu'),\n",
        "                                     tf.keras.layers.Dense(128, activation = 'relu'),\n",
        "                                     tf.keras.layers.Dense(128, activation = 'relu'),\n",
        "                                     tf.keras.layers.Dense(128, activation = 'relu'),\n",
        "                                     tf.keras.layers.Dense(128, activation = 'relu'),\n",
        "                                     tf.keras.layers.Dense(128, activation = 'relu'),\n",
        "                                     tf.keras.layers.Dense(2,activation='sigmoid')\n",
        "                                     ])\n",
        "\n",
        "\n",
        "opt = keras.optimizers.Adam(learning_rate=0.001)\n",
        "model.compile(loss=\"categorical_crossentropy\",optimizer=opt, metrics=['accuracy'])\n",
        "\n",
        "#model.summary()\n",
        "history=model.fit(X,y,batch_size=32,epochs=30,validation_split=0.1)\n",
        "model.save(\"CovidDetector\")"
      ],
      "execution_count": null,
      "outputs": [
        {
          "output_type": "stream",
          "text": [
            "Epoch 1/30\n",
            "40/40 [==============================] - 1s 20ms/step - loss: 0.7421 - accuracy: 0.5363 - val_loss: 0.6683 - val_accuracy: 0.5929\n",
            "Epoch 2/30\n",
            "40/40 [==============================] - 1s 14ms/step - loss: 0.6124 - accuracy: 0.6339 - val_loss: 0.5652 - val_accuracy: 0.8071\n",
            "Epoch 3/30\n",
            "40/40 [==============================] - 1s 14ms/step - loss: 0.3911 - accuracy: 0.8362 - val_loss: 0.5522 - val_accuracy: 0.7786\n",
            "Epoch 4/30\n",
            "40/40 [==============================] - 1s 15ms/step - loss: 0.3180 - accuracy: 0.8707 - val_loss: 0.4765 - val_accuracy: 0.8643\n",
            "Epoch 5/30\n",
            "40/40 [==============================] - 1s 15ms/step - loss: 0.2905 - accuracy: 0.8789 - val_loss: 0.3665 - val_accuracy: 0.8571\n",
            "Epoch 6/30\n",
            "40/40 [==============================] - 1s 15ms/step - loss: 0.2333 - accuracy: 0.9066 - val_loss: 0.3828 - val_accuracy: 0.8286\n",
            "Epoch 7/30\n",
            "40/40 [==============================] - 1s 15ms/step - loss: 0.2031 - accuracy: 0.9234 - val_loss: 0.3614 - val_accuracy: 0.8286\n",
            "Epoch 8/30\n",
            "40/40 [==============================] - 1s 15ms/step - loss: 0.1363 - accuracy: 0.9350 - val_loss: 0.4149 - val_accuracy: 0.8214\n",
            "Epoch 9/30\n",
            "40/40 [==============================] - 1s 15ms/step - loss: 0.1242 - accuracy: 0.9500 - val_loss: 0.4094 - val_accuracy: 0.8571\n",
            "Epoch 10/30\n",
            "40/40 [==============================] - 1s 15ms/step - loss: 0.1199 - accuracy: 0.9559 - val_loss: 0.3003 - val_accuracy: 0.8643\n",
            "Epoch 11/30\n",
            "40/40 [==============================] - 1s 15ms/step - loss: 0.1178 - accuracy: 0.9530 - val_loss: 0.2801 - val_accuracy: 0.8857\n",
            "Epoch 12/30\n",
            "40/40 [==============================] - 1s 15ms/step - loss: 0.1036 - accuracy: 0.9616 - val_loss: 0.3259 - val_accuracy: 0.8643\n",
            "Epoch 13/30\n",
            "40/40 [==============================] - 1s 14ms/step - loss: 0.0665 - accuracy: 0.9807 - val_loss: 0.3165 - val_accuracy: 0.8571\n",
            "Epoch 14/30\n",
            "40/40 [==============================] - 1s 15ms/step - loss: 0.1167 - accuracy: 0.9521 - val_loss: 0.3541 - val_accuracy: 0.8214\n",
            "Epoch 15/30\n",
            "40/40 [==============================] - 1s 15ms/step - loss: 0.0480 - accuracy: 0.9848 - val_loss: 0.2583 - val_accuracy: 0.8786\n",
            "Epoch 16/30\n",
            "40/40 [==============================] - 1s 14ms/step - loss: 0.0875 - accuracy: 0.9687 - val_loss: 0.2397 - val_accuracy: 0.8857\n",
            "Epoch 17/30\n",
            "40/40 [==============================] - 1s 15ms/step - loss: 0.0505 - accuracy: 0.9859 - val_loss: 0.3987 - val_accuracy: 0.8571\n",
            "Epoch 18/30\n",
            "40/40 [==============================] - 1s 14ms/step - loss: 0.0387 - accuracy: 0.9850 - val_loss: 0.2840 - val_accuracy: 0.9000\n",
            "Epoch 19/30\n",
            "40/40 [==============================] - 1s 14ms/step - loss: 0.0565 - accuracy: 0.9763 - val_loss: 0.2947 - val_accuracy: 0.8714\n",
            "Epoch 20/30\n",
            "40/40 [==============================] - 1s 15ms/step - loss: 0.0272 - accuracy: 0.9887 - val_loss: 0.3117 - val_accuracy: 0.8786\n",
            "Epoch 21/30\n",
            "40/40 [==============================] - 1s 15ms/step - loss: 0.0236 - accuracy: 0.9926 - val_loss: 0.3850 - val_accuracy: 0.8714\n",
            "Epoch 22/30\n",
            "40/40 [==============================] - 1s 14ms/step - loss: 0.0419 - accuracy: 0.9889 - val_loss: 0.3382 - val_accuracy: 0.8929\n",
            "Epoch 23/30\n",
            "40/40 [==============================] - 1s 15ms/step - loss: 0.0247 - accuracy: 0.9917 - val_loss: 0.3202 - val_accuracy: 0.8643\n",
            "Epoch 24/30\n",
            "40/40 [==============================] - 1s 14ms/step - loss: 0.0382 - accuracy: 0.9812 - val_loss: 0.3720 - val_accuracy: 0.8714\n",
            "Epoch 25/30\n",
            "40/40 [==============================] - 1s 14ms/step - loss: 0.0414 - accuracy: 0.9875 - val_loss: 0.4038 - val_accuracy: 0.8357\n",
            "Epoch 26/30\n",
            "40/40 [==============================] - 1s 14ms/step - loss: 0.0397 - accuracy: 0.9869 - val_loss: 0.2360 - val_accuracy: 0.9000\n",
            "Epoch 27/30\n",
            "40/40 [==============================] - 1s 14ms/step - loss: 0.0615 - accuracy: 0.9712 - val_loss: 0.3844 - val_accuracy: 0.8714\n",
            "Epoch 28/30\n",
            "40/40 [==============================] - 1s 15ms/step - loss: 0.0183 - accuracy: 0.9928 - val_loss: 0.3007 - val_accuracy: 0.8929\n",
            "Epoch 29/30\n",
            "40/40 [==============================] - 1s 15ms/step - loss: 0.0085 - accuracy: 0.9978 - val_loss: 0.3548 - val_accuracy: 0.8929\n",
            "Epoch 30/30\n",
            "40/40 [==============================] - 1s 14ms/step - loss: 0.0185 - accuracy: 0.9944 - val_loss: 0.3518 - val_accuracy: 0.8929\n",
            "INFO:tensorflow:Assets written to: CovidDetector/assets\n"
          ],
          "name": "stdout"
        }
      ]
    },
    {
      "cell_type": "code",
      "metadata": {
        "colab": {
          "base_uri": "https://localhost:8080/"
        },
        "id": "CstOMURS2Uvj",
        "outputId": "85cb109c-811b-46ef-83a8-9102c41b1e2c"
      },
      "source": [
        "model.summary()"
      ],
      "execution_count": null,
      "outputs": [
        {
          "output_type": "stream",
          "text": [
            "Model: \"sequential_11\"\n",
            "_________________________________________________________________\n",
            "Layer (type)                 Output Shape              Param #   \n",
            "=================================================================\n",
            "conv2d_10 (Conv2D)           (None, 98, 98, 32)        320       \n",
            "_________________________________________________________________\n",
            "max_pooling2d_10 (MaxPooling (None, 49, 49, 32)        0         \n",
            "_________________________________________________________________\n",
            "conv2d_11 (Conv2D)           (None, 47, 47, 32)        9248      \n",
            "_________________________________________________________________\n",
            "max_pooling2d_11 (MaxPooling (None, 23, 23, 32)        0         \n",
            "_________________________________________________________________\n",
            "flatten_5 (Flatten)          (None, 16928)             0         \n",
            "_________________________________________________________________\n",
            "dense_35 (Dense)             (None, 128)               2166912   \n",
            "_________________________________________________________________\n",
            "dense_36 (Dense)             (None, 128)               16512     \n",
            "_________________________________________________________________\n",
            "dense_37 (Dense)             (None, 128)               16512     \n",
            "_________________________________________________________________\n",
            "dense_38 (Dense)             (None, 128)               16512     \n",
            "_________________________________________________________________\n",
            "dense_39 (Dense)             (None, 128)               16512     \n",
            "_________________________________________________________________\n",
            "dense_40 (Dense)             (None, 128)               16512     \n",
            "_________________________________________________________________\n",
            "dense_41 (Dense)             (None, 2)                 258       \n",
            "=================================================================\n",
            "Total params: 2,259,298\n",
            "Trainable params: 2,259,298\n",
            "Non-trainable params: 0\n",
            "_________________________________________________________________\n"
          ],
          "name": "stdout"
        }
      ]
    },
    {
      "cell_type": "code",
      "metadata": {
        "colab": {
          "base_uri": "https://localhost:8080/",
          "height": 573
        },
        "id": "0ywwKIXAzmEl",
        "outputId": "2585de08-5361-4cb3-c565-8d65f9b51b40"
      },
      "source": [
        "#plotting graphs for accuracy \n",
        "import matplotlib.pyplot as plt\n",
        "\n",
        "plt.figure(0)\n",
        "plt.plot(history.history['accuracy'], label='training accuracy')\n",
        "plt.plot(history.history['val_accuracy'], label='val accuracy')\n",
        "plt.title('Accuracy')\n",
        "plt.xlabel('epochs')\n",
        "plt.ylabel('accuracy')\n",
        "plt.legend()\n",
        "plt.show()\n",
        "\n",
        "plt.figure(1)\n",
        "plt.plot(history.history['loss'], label='training loss')\n",
        "plt.plot(history.history['val_loss'], label='val loss')\n",
        "plt.title('Loss')\n",
        "plt.xlabel('epochs')\n",
        "plt.ylabel('loss')\n",
        "plt.legend()\n",
        "plt.show()"
      ],
      "execution_count": null,
      "outputs": [
        {
          "output_type": "display_data",
          "data": {
            "image/png": "[encoded data removed]",
            "text/plain": [
              "<Figure size 432x288 with 1 Axes>"
            ]
          },
          "metadata": {
            "tags": [],
            "needs_background": "light"
          }
        },
        {
          "output_type": "display_data",
          "data": {
            "image/png": "[encoded data removed]",
            "text/plain": [
              "<Figure size 432x288 with 1 Axes>"
            ]
          },
          "metadata": {
            "tags": [],
            "needs_background": "light"
          }
        }
      ]
    },
    {
      "cell_type": "code",
      "metadata": {
        "colab": {
          "base_uri": "https://localhost:8080/"
        },
        "id": "9_vsLUN0d0Ku",
        "outputId": "4eaf31a0-0f57-4d4d-9b0f-a99adcf6a01c"
      },
      "source": [
        "import numpy as np\n",
        "import matplotlib.pyplot as plt\n",
        "import os\n",
        "import random\n",
        "import cv2\n",
        "import pickle\n",
        "\n",
        "\n",
        "datapath='/content/drive/MyDrive/COVID_19_CT_Data/COVID_19_CT_Data/Test'\n",
        "categories=['COVID','non-COVID']\n",
        "\n",
        "test_data=[]\n",
        "\n",
        "def create_test_data():\n",
        "    for cat in categories:\n",
        "        path=os.path.join(datapath,cat)\n",
        "        class_num=categories.index(cat)\n",
        "        for img in os.listdir(path):\n",
        "            try:\n",
        "                img_array=cv2.imread(os.path.join(path,img),cv2.IMREAD_GRAYSCALE)\n",
        "                new=cv2.resize(img_array,(100,100))\n",
        "                test_data.append([new,class_num])\n",
        "            except Exception as e:\n",
        "                pass\n",
        "\n",
        "create_test_data()\n",
        "\n",
        "random.shuffle(test_data)\n",
        "\n",
        "Xtest=[]\n",
        "ytest=[]\n",
        "\n",
        "\n",
        "for features,label in test_data:\n",
        "    Xtest.append(features)\n",
        "    ytest.append(label)\n",
        "\n",
        "Xtest=np.array(Xtest).reshape(-1,100,100,1)\n",
        "Xtest=Xtest/255.0\n",
        "ytest=to_categorical(ytest)\n",
        "model.evaluate(Xtest,ytest)\n"
      ],
      "execution_count": null,
      "outputs": [
        {
          "output_type": "stream",
          "text": [
            "20/20 [==============================] - 0s 6ms/step - loss: 1.0961 - accuracy: 0.7013\n"
          ],
          "name": "stdout"
        },
        {
          "output_type": "execute_result",
          "data": {
            "text/plain": [
              "[1.096081018447876, 0.7012578845024109]"
            ]
          },
          "metadata": {
            "tags": []
          },
          "execution_count": 23
        }
      ]
    },
    {
      "cell_type": "code",
      "metadata": {
        "colab": {
          "base_uri": "https://localhost:8080/"
        },
        "id": "egYui314-fAu",
        "outputId": "02ff0f6f-4dbb-4fe7-b2ce-dc4b2477b9e5"
      },
      "source": [
        "from sklearn.metrics import confusion_matrix\n",
        "ypred=model.predict_classes(Xtest)\n",
        "#ypred = (model.predict(Xtest) > 0.5).astype(\"int32\")\n",
        "#confusion_matrix(ytest, ypred)"
      ],
      "execution_count": null,
      "outputs": [
        {
          "output_type": "stream",
          "text": [
            "/usr/local/lib/python3.7/dist-packages/tensorflow/python/keras/engine/sequential.py:450: UserWarning: `model.predict_classes()` is deprecated and will be removed after 2021-01-01. Please use instead:* `np.argmax(model.predict(x), axis=-1)`,   if your model does multi-class classification   (e.g. if it uses a `softmax` last-layer activation).* `(model.predict(x) > 0.5).astype(\"int32\")`,   if your model does binary classification   (e.g. if it uses a `sigmoid` last-layer activation).\n",
            "  warnings.warn('`model.predict_classes()` is deprecated and '\n"
          ],
          "name": "stderr"
        }
      ]
    },
    {
      "cell_type": "code",
      "metadata": {
        "id": "apyVeKSf7Rt3"
      },
      "source": [
        ""
      ],
      "execution_count": null,
      "outputs": []
    },
    {
      "cell_type": "code",
      "metadata": {
        "colab": {
          "base_uri": "https://localhost:8080/"
        },
        "id": "lWFG27E79FFY",
        "outputId": "fbac4141-6245-4808-ddc0-39f97e1aa53d"
      },
      "source": [
        "#print(test_data)\n",
        "brr=[]\n",
        "for i in ytest:\n",
        "  count=0;\n",
        "  for j in i:\n",
        "    if(j==1.0):\n",
        "      brr.append(count)\n",
        "    count=count+1\n",
        "    #count++\n",
        "#print(brr)\n",
        "crr=[]\n",
        "for i in ypred:\n",
        "  crr.append(i)\n",
        "print(brr)\n",
        "print(crr)"
      ],
      "execution_count": null,
      "outputs": [
        {
          "output_type": "stream",
          "text": [
            "[0, 1, 1, 1, 0, 0, 1, 0, 1, 0, 1, 1, 1, 0, 0, 1, 0, 0, 0, 0, 1, 0, 0, 0, 0, 0, 0, 0, 0, 1, 1, 0, 0, 0, 1, 0, 0, 1, 0, 1, 0, 1, 0, 1, 0, 1, 1, 0, 1, 1, 1, 0, 1, 0, 0, 0, 0, 1, 0, 1, 0, 0, 1, 0, 0, 1, 1, 1, 0, 1, 0, 0, 1, 0, 1, 1, 0, 0, 0, 1, 0, 0, 0, 0, 0, 0, 0, 1, 0, 1, 1, 0, 0, 0, 0, 1, 0, 0, 0, 1, 0, 0, 1, 0, 0, 1, 1, 0, 0, 1, 1, 1, 0, 0, 1, 1, 0, 0, 0, 1, 0, 0, 0, 1, 1, 1, 1, 0, 0, 1, 1, 0, 0, 0, 0, 0, 1, 1, 0, 1, 1, 0, 0, 0, 0, 1, 0, 1, 1, 1, 0, 0, 1, 0, 0, 1, 0, 0, 1, 0, 1, 1, 0, 0, 1, 0, 0, 0, 0, 1, 0, 0, 1, 1, 1, 1, 1, 1, 1, 1, 1, 0, 1, 0, 1, 1, 1, 1, 0, 0, 1, 1, 0, 1, 1, 1, 0, 1, 1, 0, 0, 1, 0, 0, 0, 0, 0, 0, 1, 0, 0, 0, 0, 0, 1, 0, 1, 0, 0, 1, 0, 0, 0, 1, 0, 1, 0, 0, 0, 0, 1, 1, 1, 0, 1, 0, 1, 0, 1, 0, 0, 1, 1, 0, 1, 0, 0, 1, 0, 1, 1, 0, 1, 1, 1, 1, 0, 1, 1, 1, 0, 1, 1, 0, 1, 1, 0, 1, 0, 0, 0, 1, 1, 0, 0, 0, 1, 0, 0, 0, 0, 0, 0, 0, 1, 0, 0, 0, 1, 0, 1, 0, 1, 1, 0, 1, 1, 1, 1, 1, 1, 0, 0, 0, 1, 1, 0, 0, 0, 0, 0, 1, 1, 0, 0, 0, 0, 1, 0, 1, 1, 0, 1, 0, 1, 0, 1, 1, 0, 1, 0, 1, 1, 1, 1, 0, 1, 1, 1, 1, 0, 0, 0, 1, 1, 0, 1, 0, 0, 1, 0, 1, 1, 1, 0, 0, 0, 1, 0, 0, 0, 0, 0, 1, 0, 0, 1, 0, 1, 1, 1, 0, 1, 0, 0, 0, 0, 0, 0, 1, 0, 0, 1, 1, 1, 1, 1, 0, 1, 0, 0, 0, 0, 1, 0, 0, 1, 0, 0, 0, 1, 1, 0, 0, 1, 0, 1, 0, 0, 0, 0, 0, 1, 0, 0, 1, 1, 0, 0, 0, 1, 0, 1, 1, 1, 1, 1, 0, 1, 0, 1, 1, 0, 0, 1, 0, 0, 1, 1, 0, 0, 1, 1, 0, 0, 0, 0, 1, 1, 1, 0, 0, 0, 1, 1, 0, 0, 1, 0, 0, 1, 0, 0, 0, 0, 0, 1, 0, 1, 0, 0, 1, 1, 1, 0, 1, 1, 0, 1, 0, 0, 1, 0, 1, 1, 1, 0, 0, 1, 1, 1, 1, 0, 1, 1, 0, 1, 0, 0, 1, 1, 0, 0, 0, 1, 1, 1, 0, 0, 0, 1, 1, 0, 1, 0, 1, 0, 0, 0, 1, 0, 0, 0, 0, 1, 0, 0, 0, 0, 0, 0, 1, 1, 1, 0, 1, 1, 0, 1, 1, 0, 0, 1, 1, 1, 1, 1, 0, 0, 1, 0, 1, 0, 0, 0, 0, 1, 1, 0, 1, 0, 0, 0, 0, 1, 1, 1, 0, 0, 0, 1, 1, 1, 1, 0, 1, 1, 1, 1, 0, 0, 1, 0, 1, 1, 0, 1, 0, 0, 0, 1, 0, 1, 0, 0, 0, 1, 0, 1, 0, 1, 1, 0, 0, 1, 0, 0, 1, 1, 0, 0, 1, 0, 0, 1, 0, 0, 0, 0, 0, 1, 0, 1, 0, 0, 1, 0, 1, 0, 0, 0, 0, 0, 0, 0, 1]\n",
            "[0, 1, 1, 0, 1, 0, 1, 1, 0, 0, 1, 1, 0, 0, 1, 1, 0, 0, 0, 0, 0, 0, 0, 0, 0, 0, 1, 0, 0, 1, 1, 0, 0, 0, 1, 1, 0, 1, 0, 1, 1, 0, 0, 1, 1, 0, 1, 0, 1, 0, 1, 0, 1, 0, 0, 1, 1, 1, 0, 0, 0, 1, 1, 1, 0, 0, 1, 1, 0, 0, 0, 0, 0, 0, 1, 1, 0, 1, 0, 1, 1, 0, 0, 0, 1, 1, 1, 0, 0, 0, 0, 1, 1, 0, 0, 1, 0, 0, 0, 1, 0, 0, 0, 0, 0, 1, 1, 0, 1, 1, 0, 1, 1, 0, 1, 0, 1, 0, 1, 1, 0, 0, 0, 0, 1, 1, 1, 0, 0, 1, 1, 1, 0, 0, 0, 0, 0, 1, 0, 1, 1, 1, 0, 0, 0, 1, 0, 1, 0, 1, 0, 0, 1, 0, 0, 1, 1, 1, 1, 1, 1, 1, 0, 1, 1, 0, 0, 0, 0, 1, 0, 1, 1, 0, 1, 1, 1, 1, 1, 1, 1, 0, 0, 0, 1, 1, 1, 1, 0, 0, 1, 1, 0, 0, 0, 1, 0, 1, 0, 1, 0, 1, 0, 0, 0, 0, 1, 0, 0, 0, 0, 0, 1, 0, 1, 0, 0, 0, 0, 0, 1, 0, 0, 1, 0, 0, 1, 1, 0, 0, 0, 1, 1, 0, 1, 0, 0, 0, 0, 1, 0, 0, 0, 0, 0, 1, 1, 1, 0, 1, 1, 1, 1, 1, 0, 1, 0, 1, 1, 1, 1, 1, 0, 0, 0, 1, 1, 0, 0, 1, 0, 1, 0, 1, 1, 0, 1, 0, 1, 0, 0, 0, 0, 0, 1, 0, 0, 0, 1, 0, 1, 0, 1, 1, 0, 1, 1, 1, 1, 1, 1, 0, 1, 0, 1, 0, 0, 0, 0, 1, 1, 0, 0, 1, 0, 1, 0, 1, 1, 1, 1, 0, 1, 0, 1, 0, 1, 0, 0, 1, 0, 1, 1, 1, 1, 1, 1, 1, 1, 1, 1, 0, 0, 0, 1, 0, 1, 0, 0, 1, 0, 1, 1, 0, 0, 0, 0, 0, 0, 0, 0, 0, 0, 1, 1, 0, 1, 0, 0, 0, 0, 1, 1, 0, 0, 0, 0, 0, 1, 1, 1, 0, 0, 0, 1, 1, 0, 0, 1, 0, 0, 0, 1, 1, 0, 0, 1, 0, 0, 1, 0, 1, 1, 0, 1, 0, 1, 1, 0, 1, 1, 1, 1, 1, 1, 1, 1, 1, 0, 0, 1, 0, 1, 0, 1, 1, 1, 0, 1, 0, 1, 1, 0, 0, 1, 0, 0, 0, 1, 0, 0, 0, 1, 0, 0, 0, 0, 1, 1, 0, 0, 1, 0, 1, 1, 0, 1, 0, 0, 0, 1, 0, 0, 0, 0, 0, 1, 0, 0, 0, 0, 1, 1, 1, 1, 0, 1, 0, 0, 0, 0, 1, 0, 0, 0, 1, 1, 0, 1, 1, 1, 1, 0, 0, 1, 0, 1, 1, 0, 0, 1, 0, 0, 0, 1, 1, 0, 0, 0, 1, 1, 1, 1, 0, 0, 1, 0, 0, 0, 0, 1, 0, 0, 1, 0, 0, 1, 1, 0, 0, 0, 0, 1, 0, 1, 1, 1, 1, 1, 0, 0, 1, 1, 1, 1, 1, 1, 0, 1, 0, 0, 1, 1, 1, 0, 1, 1, 0, 1, 0, 1, 0, 1, 1, 1, 1, 0, 0, 0, 1, 0, 1, 0, 1, 1, 0, 1, 1, 0, 1, 0, 1, 0, 0, 1, 0, 0, 0, 1, 0, 0, 1, 1, 0, 0, 0, 1, 0, 0, 0, 0, 0, 1, 0, 1, 1, 0, 1, 1, 0, 0, 1, 0, 1, 1, 1, 1, 0, 0, 0, 0, 1, 0, 0, 0, 1, 0, 1, 1, 0, 0, 0, 0, 0, 0, 1]\n"
          ],
          "name": "stdout"
        }
      ]
    },
    {
      "cell_type": "code",
      "metadata": {
        "colab": {
          "base_uri": "https://localhost:8080/"
        },
        "id": "5Gn-iZ4w-oCD",
        "outputId": "b3d02ce0-ff61-43ce-d21a-3c4ebb804916"
      },
      "source": [
        "cm=confusion_matrix(brr, crr)\n",
        "print(cm)"
      ],
      "execution_count": null,
      "outputs": [
        {
          "output_type": "stream",
          "text": [
            "[[251 101]\n",
            " [ 89 195]]\n"
          ],
          "name": "stdout"
        }
      ]
    },
    {
      "cell_type": "code",
      "metadata": {
        "colab": {
          "base_uri": "https://localhost:8080/",
          "height": 274
        },
        "id": "XdrigXsV4gep",
        "outputId": "e1258659-6412-4e43-af3a-9b96d1efda6c"
      },
      "source": [
        "import seaborn as sn\n",
        "import pandas as pd\n",
        "import matplotlib.pyplot as plt\n",
        "sn.set(font_scale=1.2) # for label size\n",
        "sn.heatmap(cm, annot=True, annot_kws={\"size\": 24}) # font size\n",
        "plt.show()\n",
        "#categories=['COVID','non-COVID']\n",
        "#          =[ 0     , 1         ]"
      ],
      "execution_count": null,
      "outputs": [
        {
          "output_type": "display_data",
          "data": {
            "image/png": "[encoded data removed]",
            "text/plain": [
              "<Figure size 432x288 with 2 Axes>"
            ]
          },
          "metadata": {
            "tags": []
          }
        }
      ]
    },
    {
      "cell_type": "code",
      "metadata": {
        "colab": {
          "base_uri": "https://localhost:8080/"
        },
        "id": "9WyC9_GB7VBw",
        "outputId": "2af0c197-a41f-4b16-d5d9-8fd0beec5226"
      },
      "source": [
        "import sklearn\n",
        "sklearn.metrics.precision_score(brr, crr)"
      ],
      "execution_count": null,
      "outputs": [
        {
          "output_type": "execute_result",
          "data": {
            "text/plain": [
              "0.6587837837837838"
            ]
          },
          "metadata": {
            "tags": []
          },
          "execution_count": 36
        }
      ]
    },
    {
      "cell_type": "code",
      "metadata": {
        "colab": {
          "base_uri": "https://localhost:8080/"
        },
        "id": "LQvVvFbdBmNm",
        "outputId": "7a2e8ece-3ff4-439f-bdd3-e48a37ad8b26"
      },
      "source": [
        "sklearn.metrics.recall_score(brr, crr)"
      ],
      "execution_count": null,
      "outputs": [
        {
          "output_type": "execute_result",
          "data": {
            "text/plain": [
              "0.6866197183098591"
            ]
          },
          "metadata": {
            "tags": []
          },
          "execution_count": 37
        }
      ]
    },
    {
      "cell_type": "code",
      "metadata": {
        "colab": {
          "base_uri": "https://localhost:8080/"
        },
        "id": "rdj7vHWUBrl0",
        "outputId": "c63ce1f7-35ca-4858-c0f4-933327d45382"
      },
      "source": [
        "sklearn.metrics.f1_score(brr, crr)"
      ],
      "execution_count": null,
      "outputs": [
        {
          "output_type": "execute_result",
          "data": {
            "text/plain": [
              "0.6724137931034483"
            ]
          },
          "metadata": {
            "tags": []
          },
          "execution_count": 38
        }
      ]
    },
    {
      "cell_type": "code",
      "metadata": {
        "colab": {
          "base_uri": "https://localhost:8080/"
        },
        "id": "DwE4yI8jBylZ",
        "outputId": "3e606c53-8422-479c-aa3c-24f285b48136"
      },
      "source": [
        "sklearn.metrics.accuracy_score(brr, crr)"
      ],
      "execution_count": null,
      "outputs": [
        {
          "output_type": "execute_result",
          "data": {
            "text/plain": [
              "0.7012578616352201"
            ]
          },
          "metadata": {
            "tags": []
          },
          "execution_count": 39
        }
      ]
    },
    {
      "cell_type": "code",
      "metadata": {
        "id": "By84wMbs2jzt"
      },
      "source": [
        "import cv2\n",
        "import numpy as np\n",
        "\n",
        "def prepare(path):\n",
        "  img=cv2.resize(cv2.imread(path,cv2.IMREAD_GRAYSCALE),(100,100))\n",
        "  return img.reshape(-1,100,100,1)\n",
        "\n",
        "categories=['COVID','non-COVID']\n",
        "model=tf.keras.models.load_model(\"CovidDetector\")\n",
        "prediction=model.predict([prepare(\"/content/drive/My Drive/TAX/COVID_19_CT_Data/Test/COVID/Covid (4).png\")])\n",
        "print(categories[np.argmax(prediction)])\n",
        "prediction"
      ],
      "execution_count": 1,
      "outputs": []
    },
    {
      "cell_type": "code",
      "metadata": {
        "id": "kJWXebiwBqQJ"
      },
      "source": [
        ""
      ],
      "execution_count": null,
      "outputs": []
    }
  ]
}